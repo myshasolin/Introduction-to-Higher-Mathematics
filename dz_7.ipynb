{
 "cells": [
  {
   "cell_type": "code",
   "execution_count": 1,
   "id": "d9aee714",
   "metadata": {},
   "outputs": [],
   "source": [
    "import numpy as np"
   ]
  },
  {
   "cell_type": "markdown",
   "id": "815a6f35",
   "metadata": {},
   "source": [
    "# Практическое задание №5"
   ]
  },
  {
   "cell_type": "markdown",
   "id": "82689704",
   "metadata": {},
   "source": [
    "## 5.1.\n",
    "\n",
    "**1) Вектор – это частный случай матрицы 1хN и Nх1. Повторите материал для векторов, уделяя особое внимание умножению A∙B.**"
   ]
  },
  {
   "cell_type": "code",
   "execution_count": 2,
   "id": "8db41a61",
   "metadata": {},
   "outputs": [
    {
     "name": "stdout",
     "output_type": "stream",
     "text": [
      "вектор a = \n",
      "[[0 1 2 3 4]]\n",
      "\n",
      "вектор b = \n",
      "[[1.]\n",
      " [2.]\n",
      " [3.]\n",
      " [4.]]\n",
      "\n",
      "у вектора а строк: 1 и столбцов: 5\n",
      "у вектора b строк: 4 и столбцов: 1\n",
      "\n",
      "применим к ним фишку сложения на Python, используя логику сложения broadcasting:\n",
      "a+b = \n",
      "[[1. 2. 3. 4. 5.]\n",
      " [2. 3. 4. 5. 6.]\n",
      " [3. 4. 5. 6. 7.]\n",
      " [4. 5. 6. 7. 8.]]\n"
     ]
    }
   ],
   "source": [
    "# вот вектор Nх1\n",
    "a = np.array([[i for i in range(5)]])\n",
    "b = np.array([[i for i in range(1, 5)]], float).T\n",
    "print(f'вектор a = \\n{a}\\n\\nвектор b = \\n{b}')\n",
    "print(f'\\nу вектора а строк: {a.shape[0]} и столбцов: {a.shape[1]}')\n",
    "print(f'у вектора b строк: {b.shape[0]} и столбцов: {b.shape[1]}\\n')\n",
    "print(f'применим к ним фишку сложения на Python, используя логику сложения broadcasting:\\na+b = \\n{a+b}')"
   ]
  },
  {
   "cell_type": "code",
   "execution_count": 3,
   "id": "022c8a8f",
   "metadata": {},
   "outputs": [
    {
     "data": {
      "text/plain": [
       "array([[4, 5, 6]])"
      ]
     },
     "execution_count": 3,
     "metadata": {},
     "output_type": "execute_result"
    }
   ],
   "source": [
    "# вот вектор 1хN\n",
    "a = np.array([[4, 5, 6]])\n",
    "a"
   ]
  },
  {
   "cell_type": "code",
   "execution_count": 4,
   "id": "93f59b74",
   "metadata": {},
   "outputs": [
    {
     "data": {
      "text/plain": [
       "array([[32, 40, 48]])"
      ]
     },
     "execution_count": 4,
     "metadata": {},
     "output_type": "execute_result"
    }
   ],
   "source": [
    "# умножим его на скаляр\n",
    "np.dot(a, 8)"
   ]
  },
  {
   "cell_type": "code",
   "execution_count": 5,
   "id": "73d4411a",
   "metadata": {},
   "outputs": [
    {
     "data": {
      "text/plain": [
       "100.0"
      ]
     },
     "execution_count": 5,
     "metadata": {},
     "output_type": "execute_result"
    }
   ],
   "source": [
    "# скалярное произведение\n",
    "a = np.array([1, 2, 3, 4, 5], float)\n",
    "b = np.array([0, 9, 8, 7, 6], float)\n",
    "np.inner(a, b)"
   ]
  },
  {
   "cell_type": "code",
   "execution_count": 6,
   "id": "5fbf35ef",
   "metadata": {},
   "outputs": [
    {
     "data": {
      "text/plain": [
       "array([[63., 56., 49.],\n",
       "       [72., 64., 56.],\n",
       "       [81., 72., 63.]])"
      ]
     },
     "execution_count": 6,
     "metadata": {},
     "output_type": "execute_result"
    }
   ],
   "source": [
    "# умножение по законам матрицы\n",
    "a = np.array([7, 8, 9], float)\n",
    "b = np.array([9, 8, 7], float)\n",
    "np.outer(a, b)"
   ]
  },
  {
   "cell_type": "markdown",
   "id": "9b9d7615",
   "metadata": {},
   "source": [
    "**2) Вычислите, по возможности не используя программирование: $(5E)^{-1}$ где Е – единичная матрица размера 5х5.**"
   ]
  },
  {
   "cell_type": "markdown",
   "id": "92ca2788",
   "metadata": {},
   "source": [
    "$(5E)^{-1} =$ $\\frac{1}{5^1} \\cdot \\begin{bmatrix}\n",
    "1 & 0 & 0 & 0 & 0 \\\\\n",
    "0 & 1 & 0 & 0 & 0 \\\\\n",
    "0 & 0 & 1 & 0 & 0 \\\\\n",
    "0 & 0 & 0 & 1 & 0 \\\\\n",
    "0 & 0 & 0 & 0 & 1 \\\\\n",
    "\\end{bmatrix} =$ $\\ 0.2 \\cdot \\begin{bmatrix}\n",
    "1 & 0 & 0 & 0 & 0 \\\\\n",
    "0 & 1 & 0 & 0 & 0 \\\\\n",
    "0 & 0 & 1 & 0 & 0 \\\\\n",
    "0 & 0 & 0 & 1 & 0 \\\\\n",
    "0 & 0 & 0 & 0 & 1 \\\\\n",
    "\\end{bmatrix} =$ \n",
    "$\\begin{bmatrix}\n",
    "0.2 & 0 & 0 & 0 & 0 \\\\\n",
    "0 & 0.2 & 0 & 0 & 0 \\\\\n",
    "0 & 0 & 0.2 & 0 & 0 \\\\\n",
    "0 & 0 & 0 & 0.2 & 0 \\\\\n",
    "0 & 0 & 0 & 0 & 0.2 \\\\\n",
    "\\end{bmatrix}$"
   ]
  },
  {
   "cell_type": "markdown",
   "id": "60d96fd3",
   "metadata": {},
   "source": [
    "проверим за собой на Python:"
   ]
  },
  {
   "cell_type": "code",
   "execution_count": 7,
   "id": "8973c791",
   "metadata": {},
   "outputs": [
    {
     "name": "stdout",
     "output_type": "stream",
     "text": [
      "A*5 =\n",
      "[[5. 0. 0. 0. 0.]\n",
      " [0. 5. 0. 0. 0.]\n",
      " [0. 0. 5. 0. 0.]\n",
      " [0. 0. 0. 5. 0.]\n",
      " [0. 0. 0. 0. 5.]]\n",
      "\n",
      "обратная матрица для A =\n",
      "[[ 0.2  0.   0.   0.   0. ]\n",
      " [ 0.   0.2  0.   0.   0. ]\n",
      " [ 0.   0.   0.2  0.   0. ]\n",
      " [-0.  -0.  -0.   0.2 -0. ]\n",
      " [ 0.   0.   0.   0.   0.2]]\n"
     ]
    }
   ],
   "source": [
    "A = 5* np.eye(5)\n",
    "print(f'A*5 =\\n{A}\\n\\nобратная матрица для A =\\n{np.linalg.inv(A)}')"
   ]
  },
  {
   "cell_type": "markdown",
   "id": "05e4edd2",
   "metadata": {},
   "source": [
    "## 5.2.\n",
    "\n",
    "**Вычислите определитель:**"
   ]
  },
  {
   "cell_type": "markdown",
   "id": "7dc54739",
   "metadata": {},
   "source": [
    "$\\Delta \\begin{bmatrix}\n",
    "1 & 2 & 3 \\\\\n",
    "4 & 0 & 6 \\\\\n",
    "7 & 8 & 9 \\\\\n",
    "\\end{bmatrix} = \n",
    "1 \\cdot \\begin{bmatrix}\n",
    "0 & 6 \\\\\n",
    "8 & 9 \\\\\n",
    "\\end{bmatrix} - \n",
    "2 \\cdot \\begin{bmatrix}\n",
    "4 & 6 \\\\\n",
    "7 & 9 \\\\\n",
    "\\end{bmatrix} +\n",
    "3 \\cdot \\begin{bmatrix}\n",
    "4 & 0 \\\\\n",
    "7 & 8 \\\\\n",
    "\\end{bmatrix} =\n",
    "1(0 \\cdot 9 - 6 \\cdot 8) - 2(4 \\cdot 9 - 6 \\cdot 7) + 3( 4 \\cdot 8 - 0 \\cdot 7) = -48 - 72 + 84 + 96 = 60\n",
    "$ "
   ]
  },
  {
   "cell_type": "markdown",
   "id": "74879300",
   "metadata": {},
   "source": [
    "и по питоновски:"
   ]
  },
  {
   "cell_type": "code",
   "execution_count": 8,
   "id": "47852fa6",
   "metadata": {},
   "outputs": [
    {
     "name": "stdout",
     "output_type": "stream",
     "text": [
      "матрица A =\n",
      "[[1 2 3]\n",
      " [4 0 6]\n",
      " [7 8 9]]\n",
      "\n",
      "Определитель матрицы A = 60.0\n"
     ]
    }
   ],
   "source": [
    "A = np.array([[1, 2, 3], [4, 0, 6], [7, 8, 9]])\n",
    "print(f'матрица A =\\n{A}\\n\\nОпределитель матрицы A = {np.round(np.linalg.det(A))}')"
   ]
  },
  {
   "cell_type": "markdown",
   "id": "a44d665d",
   "metadata": {},
   "source": [
    "## 5.3.\n",
    "\n",
    "**1) Вычислите матрицу, обратную данной:**\n",
    "\n",
    "$\\begin{bmatrix}\n",
    "1 & 2 & 3 \\\\\n",
    "4 & 0 & 6 \\\\\n",
    "7 & 8 & 9 \\\\\n",
    "\\end{bmatrix}$"
   ]
  },
  {
   "cell_type": "markdown",
   "id": "c46fa21c",
   "metadata": {},
   "source": [
    "считаем по формуле $A^{-1} = \\frac{A_*^T}{\\Delta A}$ где:\n",
    "\n",
    "$A^{-1}$ - обратная матрица\n",
    "\n",
    "$A_*^T$ - транспонированная матрица алгебраических дополнений\n",
    "\n",
    "$\\Delta A$ - Определитель матрицы A\n",
    "\n",
    "1) $\\Delta A$ мы посчитали задачей выше, он = 60\n",
    "\n",
    "2) Считаем $A_*$ - для этого считаем матрицу миноров и умножаем миноры на алгебраическое дополнение $(-1)^{i+j}$\n",
    "\n",
    "$M_{11} = \\begin{bmatrix}0 & 6 \\\\ 8 & 9 \\\\\\end{bmatrix} = 0 \\cdot 9 - 6 \\cdot 8 = -48 \\Rightarrow A_{*11} = (-1)^{1+1} \\cdot (-48) = -48$\n",
    "\n",
    "$M_{12} = \\begin{bmatrix}4 & 6 \\\\ 7 & 9 \\\\\\end{bmatrix} = 4 \\cdot 9 - 6 \\cdot 7 = -6 \\Rightarrow A_{*12} = (-1)^{1+2} \\cdot (-6) = 6$\n",
    "\n",
    "$M_{13} = \\begin{bmatrix}4 & 0 \\\\ 7 & 8 \\\\\\end{bmatrix} = 4 \\cdot 8 - 0 \\cdot 7 = 32 \\Rightarrow A_{*12} = (-1)^{1+3} \\cdot 32 = 32$\n",
    "\n",
    "$M_{21} = \\begin{bmatrix}2 & 3 \\\\ 8 & 9 \\\\\\end{bmatrix} = 2 \\cdot 9 - 3 \\cdot 8 = -6 \\Rightarrow A_{*21} = (-1)^{2+1} \\cdot (-6) = 6$\n",
    "\n",
    "$M_{22} = \\begin{bmatrix}1 & 3 \\\\ 7 & 9 \\\\\\end{bmatrix} = 1 \\cdot 9 - 3 \\cdot 7 = -12 \\Rightarrow A_{*22} = (-1)^{2+2} \\cdot (-12) = -12$\n",
    "\n",
    "$M_{23} = \\begin{bmatrix}1 & 2 \\\\ 7 & 8 \\\\\\end{bmatrix} = 1 \\cdot 8 - 2 \\cdot 7 = -6 \\Rightarrow A_{*23} = (-1)^{2+3} \\cdot (-6) = 6$\n",
    "\n",
    "$M_{31} = \\begin{bmatrix}2 & 3 \\\\ 0 & 6 \\\\\\end{bmatrix} = 2 \\cdot 6 - 3 \\cdot 0 = 12 \\Rightarrow A_{*31} = (-1)^{3+1} \\cdot 12 = 12$\n",
    "\n",
    "$M_{32} = \\begin{bmatrix}1 & 3 \\\\ 4 & 6 \\\\\\end{bmatrix} = 1 \\cdot 6 - 3 \\cdot 4 = -6 \\Rightarrow A_{*32} = (-1)^{3+2} \\cdot (-6) = 6$\n",
    "\n",
    "$M_{33} = \\begin{bmatrix}1 & 2 \\\\ 4 & 0 \\\\\\end{bmatrix} = 1 \\cdot 0 - 2 \\cdot 4 = -8 \\Rightarrow A_{*33} = (-1)^{3+3} \\cdot (-8) = -8$\n",
    "\n",
    "$A_* = \\begin{bmatrix}\n",
    "-48 & 6 & 32 \\\\\n",
    "6 & -12 & 6 \\\\\n",
    "12 & 6 & -8 \\\\\n",
    "\\end{bmatrix}$\n",
    "\n",
    "транспонируем полученную матрицу:\n",
    "\n",
    "$A_*^T = \\begin{bmatrix}\n",
    "-48 & 6 & 12 \\\\\n",
    "6 & -12 & 6 \\\\\n",
    "32 & 6 & -8 \\\\\n",
    "\\end{bmatrix}$\n",
    "\n",
    "тогда $A^{-1} = \\frac{A_*^T}{\\Delta A} = \n",
    "\\frac{\n",
    "\\begin{bmatrix}\n",
    "-48 & 6 & 12 \\\\\n",
    "6 & -12 & 6 \\\\\n",
    "32 & 6 & -8 \\\\\n",
    "\\end{bmatrix}}{60} = \n",
    "\\begin{bmatrix}\n",
    "-0.8 & 0.1 & 0.2 \\\\\n",
    "0.1 & -0.2 & 0.1 \\\\\n",
    "0.53(3) & 0.1 & -0.13(3) \\\\\n",
    "\\end{bmatrix}\n",
    "$"
   ]
  },
  {
   "cell_type": "markdown",
   "id": "25b83308",
   "metadata": {},
   "source": [
    "Проверим на Python и убедимся, что всё ок и норм:"
   ]
  },
  {
   "cell_type": "code",
   "execution_count": 9,
   "id": "f45eb0c6",
   "metadata": {},
   "outputs": [
    {
     "name": "stdout",
     "output_type": "stream",
     "text": [
      "матрица A =\n",
      "[[1 2 3]\n",
      " [4 0 6]\n",
      " [7 8 9]]\n",
      "\n",
      "а обратная матрица =\n",
      "[[-0.8         0.1         0.2       ]\n",
      " [ 0.1        -0.2         0.1       ]\n",
      " [ 0.53333333  0.1        -0.13333333]]\n"
     ]
    }
   ],
   "source": [
    "print(f'матрица A =\\n{A}\\n\\nа обратная матрица =\\n{np.linalg.inv(A)}')"
   ]
  },
  {
   "cell_type": "markdown",
   "id": "9278f990",
   "metadata": {},
   "source": [
    "**1) Приведите пример матрицы 4х4, ранг которой равен 1.**"
   ]
  },
  {
   "cell_type": "markdown",
   "id": "b881c2c8",
   "metadata": {},
   "source": [
    "У матрицы с одинаковыми элементами первый $\\Delta \\neq 0$, тогда как остальные её $\\Delta = 0$\n",
    "\n",
    "$\\Rightarrow$ в качестве ответа подойдёт любая матрица с одинаковыми числами, кроме нулевой, так как у нулевой все $\\Delta = 0$"
   ]
  },
  {
   "cell_type": "code",
   "execution_count": 10,
   "id": "e7b39e17",
   "metadata": {},
   "outputs": [
    {
     "name": "stdout",
     "output_type": "stream",
     "text": [
      "матрица C =\n",
      "[[55 55 55 55]\n",
      " [55 55 55 55]\n",
      " [55 55 55 55]\n",
      " [55 55 55 55]]\n",
      "\n",
      "а её ранг = 1\n"
     ]
    }
   ],
   "source": [
    "C = np.array([[55, 55, 55, 55] for _ in range(4)])\n",
    "print(f'матрица C =\\n{C}\\n\\nа её ранг = {np.linalg.matrix_rank(C)}')"
   ]
  },
  {
   "cell_type": "markdown",
   "id": "fa80f16c",
   "metadata": {},
   "source": [
    "## 5.4.\n",
    "\n",
    "**Вычислите скалярное произведение двух векторов:  (1, 5)  и  (2, 8)**"
   ]
  },
  {
   "cell_type": "markdown",
   "id": "a22bccb8",
   "metadata": {},
   "source": [
    "считаем по формуле: $\\overrightarrow{A} \\cdot \\overrightarrow{B} = x_1x_2 + y_1y_2 + z_1z_2$\n",
    "\n",
    "$\\overrightarrow{A} = (1, 5)$\n",
    "\n",
    "$\\overrightarrow{B} = (2, 8)$\n",
    "\n",
    "$\\overrightarrow{A} \\cdot \\overrightarrow{B} = (1 \\cdot 2) + (5 \\cdot 8) = 2 + 40 = 42$\n",
    "\n",
    "проверим за собой на Python:"
   ]
  },
  {
   "cell_type": "code",
   "execution_count": 11,
   "id": "7590fc50",
   "metadata": {},
   "outputs": [
    {
     "data": {
      "text/plain": [
       "42"
      ]
     },
     "execution_count": 11,
     "metadata": {},
     "output_type": "execute_result"
    }
   ],
   "source": [
    "a = np.array([1, 5])\n",
    "b = np.array([2, 8])\n",
    "np.dot(a, b)"
   ]
  },
  {
   "cell_type": "markdown",
   "id": "50e62cb1",
   "metadata": {},
   "source": [
    "## 5.5.\n",
    "\n",
    "**(1, 5, 0), (2, 8, 7) и (7, 1.5, 3) Вычислите смешанное произведение трех векторов:**"
   ]
  },
  {
   "cell_type": "markdown",
   "id": "3ffec133",
   "metadata": {},
   "source": [
    "будем комбинировать скалярное и векторное произведения, причём соглавно правилу $(\\overrightarrow{A} \\times \\overrightarrow{B}) \\cdot \\overrightarrow{C} = \\overrightarrow{A} \\cdot (\\overrightarrow{B} \\times \\overrightarrow{C})$ не имеет значения, какими векторами проводить скалярное произведение, а с какими смешанное. В итоге мы получим скаляр\n",
    "\n",
    "$\\overrightarrow{A} = (1, 5, 0)$\n",
    "\n",
    "$\\overrightarrow{B} = (2, 8, 7)$\n",
    "\n",
    "$\\overrightarrow{D} = (7, 1.5, 3)$\n",
    "\n",
    "1) сначала вычисляем векторное произведение векторов $\\overrightarrow{A}$ и $\\overrightarrow{B}$\n",
    "\n",
    "$\\overrightarrow{D} = \\overrightarrow{A} \\times \\overrightarrow{B} = \\begin{bmatrix}\n",
    "1 & 5 & 0 \\\\\n",
    "2 & 8 & 7 \\\\\n",
    "\\end{bmatrix} = (5 \\cdot 7 - 0 \\cdot 8) - (1 \\cdot 7 - 0 \\cdot 2) + (1 \\cdot 8 - 5 \\cdot 2) = (35, \\; -7, \\; -2)$\n",
    "\n",
    "2) вторым шагом вычисляем скалярное произведение $\\overrightarrow{C}$ и получившегося $\\overrightarrow{D}$\n",
    "\n",
    "$\\overrightarrow{C} \\cdot \\overrightarrow{D} = 7 \\cdot 35 + 1.5 \\cdot (-7) + 3 \\cdot (-2) = 245 - 10.5 - 6 = 228.5$\n",
    "\n",
    "проверим за собой на Python:"
   ]
  },
  {
   "cell_type": "code",
   "execution_count": 12,
   "id": "4c286f54",
   "metadata": {},
   "outputs": [
    {
     "name": "stdout",
     "output_type": "stream",
     "text": [
      "вектор A = [1. 5. 0.]\n",
      "вектор B = [2. 8. 7.]\n",
      "вектор C = [7.  1.5 3. ]\n",
      "\n",
      "их смешанное произведение = 228.5\n"
     ]
    }
   ],
   "source": [
    "A = np.array([1, 5, 0], float)\n",
    "B = np.array([2, 8, 7], float)\n",
    "C = np.array([7, 1.5, 3])\n",
    "print(f'вектор A = {A}\\nвектор B = {B}\\nвектор C = {C}\\n\\nих смешанное произведение = {np.inner(np.cross(A, B), C)}')"
   ]
  },
  {
   "cell_type": "code",
   "execution_count": null,
   "id": "bcb0003b",
   "metadata": {},
   "outputs": [],
   "source": []
  }
 ],
 "metadata": {
  "kernelspec": {
   "display_name": "Python 3 (ipykernel)",
   "language": "python",
   "name": "python3"
  },
  "language_info": {
   "codemirror_mode": {
    "name": "ipython",
    "version": 3
   },
   "file_extension": ".py",
   "mimetype": "text/x-python",
   "name": "python",
   "nbconvert_exporter": "python",
   "pygments_lexer": "ipython3",
   "version": "3.9.7"
  }
 },
 "nbformat": 4,
 "nbformat_minor": 5
}
